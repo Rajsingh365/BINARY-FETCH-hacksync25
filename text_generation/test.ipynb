{
 "cells": [
  {
   "cell_type": "code",
   "execution_count": 27,
   "metadata": {},
   "outputs": [
    {
     "name": "stdout",
     "output_type": "stream",
     "text": [
      "Unfortunately, it's difficult to pinpoint the very first person to eat chocolate cake, as the history of chocolate and cake dates back thousands of years. However, I can give you some insight into the origins of chocolate cake.\n",
      "\n",
      "The ancient Mesoamericans, specifically the Olmec and Aztec civilizations, are credited with being the first to domesticate cacao, the plant from which chocolate is derived, around 1500 BCE. They used cacao to make a bitter drink, which was considered a luxury item.\n",
      "\n",
      "As for cake, the ancient Egyptians, Greeks, and Romans all made sweet baked goods using honey, nuts, and other ingredients. However, these early cakes were not like the chocolate cakes we know today.\n",
      "\n",
      "The modern concept of chocolate cake, as we know it, is believed to have originated in Europe in the 17th and 18th centuries, when sugar and cocoa became more widely available. The first recorded recipe for a chocolate cake was in 1764, in a book called \"The Art of Cookery\" by Hannah Glasse.\n",
      "\n",
      "One of the earliest known recipes for a chocolate cake was created by the French chef, Marie-Antoine Carême, in the early 19th century. Carême, who is often referred to as the \"King of Chefs,\" worked for several European royal courts and was known for his elaborate desserts.\n",
      "\n",
      "While we can't identify a single person as the \"first\" to eat chocolate cake, it's likely that Carême or one of his contemporaries was among the first to indulge in this delicious treat.\n",
      "\n",
      "So, while we may not know the exact name of the first person to eat chocolate cake, we can appreciate the rich history and cultural exchange that led to the creation of this beloved dessert!\n"
     ]
    }
   ],
   "source": [
    "from langchain_groq import ChatGroq\n",
    "from dotenv import load_dotenv\n",
    "import os\n",
    "load_dotenv()\n",
    "\n",
    "llm = ChatGroq(\n",
    "    model=\"llama-3.3-70b-versatile\",\n",
    "    temperature=0,\n",
    "    groq_api_key=os.getenv(\"GROQ_API_KEY\")\n",
    ");\n",
    "\n",
    "response = llm.invoke(\"who was The first person to eat chocolate cake ?\");\n",
    "print(response.content);\n"
   ]
  },
  {
   "cell_type": "code",
   "execution_count": 28,
   "metadata": {},
   "outputs": [
    {
     "name": "stdout",
     "output_type": "stream",
     "text": [
      "{\n",
      "    \"content\": \"\n",
      "Welcome to today's episode, where we're going to explore the fascinating world of artificial intelligence in modern healthcare. As we continue to push the boundaries of what's possible with technology, it's exciting to see the impact AI is having on patient care, hospital administration, and what the future holds for this rapidly evolving field.\n",
      "\n",
      "First, let's talk about patient care. AI is being used in various ways to improve diagnosis, treatment, and overall patient outcomes. For instance, AI-powered algorithms can analyze medical images like X-rays and MRIs to help doctors detect diseases like cancer more accurately and at an earlier stage. This not only saves lives but also reduces the burden on healthcare systems by preventing unnecessary treatments and interventions.\n",
      "\n",
      "Another area where AI is making a significant difference is in personalized medicine. By analyzing vast amounts of patient data, AI can help tailor treatment plans to individual needs, taking into account factors like genetic profiles, medical histories, and lifestyle habits. This approach has shown promising results in managing chronic conditions like diabetes and heart disease, where patients require ongoing monitoring and support.\n",
      "\n",
      "Now, let's shift our focus to hospital administration. AI is streamlining many administrative tasks, freeing up staff to focus on more critical aspects of patient care. For example, AI-powered chatbots are being used to handle patient inquiries, schedule appointments, and even provide basic medical advice. This not only improves the patient experience but also reduces wait times and minimizes the risk of human error.\n",
      "\n",
      "In addition, AI is helping hospitals optimize resource allocation, predict patient demand, and identify areas of inefficiency. By analyzing data on patient flow, bed occupancy, and staffing levels, AI can provide valuable insights that inform strategic decision-making and drive cost savings.\n",
      "\n",
      "As we look to the future, it's clear that AI will continue to play an increasingly important role in shaping the healthcare landscape. One exciting trend is the development of AI-powered robots that can assist with surgeries, rehabilitation, and even patient companionship. These robots have the potential to revolutionize the way we deliver care, particularly in areas where there are shortages of skilled healthcare professionals.\n",
      "\n",
      "Another area of research is the use of AI in mental health. AI-powered tools are being developed to detect early warning signs of mental illness, provide personalized therapy, and even offer social support to patients who are isolated or struggling to cope. This is a critical area of need, given the growing burden of mental health issues worldwide.\n",
      "\n",
      "In conclusion, the impact of AI on modern healthcare is undeniable. From improving patient care and streamlining hospital administration to driving future trends and innovations, AI is transforming the way we deliver healthcare. As we continue to explore the possibilities of AI, it's essential to prioritize responsible development, ensure equity and access, and address the ethical implications of this technology.\n",
      "\n",
      "Thanks for joining me on this journey into the world of AI in healthcare. If you have any thoughts or questions, please don't hesitate to reach out. Until next time, stay curious and keep exploring.\n",
      "\",\n",
      "    \"tags\": [\"AI\", \"healthcare\", \"technology\", \"patient care\", \"hospital administration\", \"future trends\", \"personalized medicine\", \"mental health\"]\n",
      "} <class 'str'>\n"
     ]
    }
   ],
   "source": [
    "from langchain_core.prompts import PromptTemplate\n",
    "\n",
    "# Define the PromptTemplate with placeholders for user input\n",
    "prompt_script = PromptTemplate.from_template(\n",
    "  \"\"\"\n",
    "  ### SOLO PODCAST SCRIPT CREATION\n",
    "  {script_content}\n",
    "  ### INSTRUCTIONS\n",
    "  You are tasked with creating a solo podcast script based on the following instructions. \n",
    "  Use the provided summary to craft a script that can be read aloud for a podcast episode. \n",
    "  Make sure to create a compelling narrative with engaging storytelling and clear transitions.\n",
    "  Keep the tone conversational and approachable. \n",
    "  Ensure the script includes real-world examples or scenarios to make it relatable and insightful.\n",
    "  Format the script in a way that would be easy for a speaker to follow during the podcast.\n",
    "\n",
    "  ### OUTPUT FORMAT (PODCAST SCRIPT):\n",
    "  The output should be valid json having two fields : content - that will have the solo script to be fed \n",
    "  to a text to speech model and tags - an array of tags that will be used later for the recommendation \n",
    "  algorithm internally.\n",
    "\n",
    "  ### FINAL OUTPUT (VALID JSON FORMATTED PLAIN TEXT AND NOT JSON):\n",
    "  {{\n",
    "    \"content\": \"{script_content}\",\n",
    "    \"tags\": {tags}\n",
    "  }}\n",
    "\"\"\"\n",
    ")\n",
    "\n",
    "# Assuming `llm` is a pre-configured LLM chain, you can now call the chain like this:\n",
    "chain_script = prompt_script | llm;\n",
    "\n",
    "# Example input data for generating the podcast script\n",
    "input_data = {\n",
    "    'script_content': \"Discuss the impact of AI on modern healthcare, including patient care, hospital administration, and future trends.\",\n",
    "    'tags': '[\"AI\", \"healthcare\", \"technology\"]',  # Tags for context\n",
    "    'summary': \"This podcast will explore how artificial intelligence is revolutionizing healthcare.\",\n",
    "    'special_instructions': \"Ensure the tone is engaging and simple to understand, with a bit of humor where appropriate.\"\n",
    "}\n",
    "\n",
    "# Render the prompt with the actual input values\n",
    "res = chain_script.invoke(input=input_data)\n",
    "\n",
    "# Print the generated output in JSON format (plain text)\n",
    "print(res.content, type(res.content))\n"
   ]
  },
  {
   "cell_type": "code",
   "execution_count": 29,
   "metadata": {},
   "outputs": [
    {
     "name": "stdout",
     "output_type": "stream",
     "text": [
      "{'content': \"\\nWelcome to today's episode, where we're going to explore the fascinating world of artificial intelligence in modern healthcare. As we continue to push the boundaries of what's possible with technology, it's exciting to see the impact AI is having on patient care, hospital administration, and what the future holds for this rapidly evolving field.\\n\\nFirst, let's talk about patient care. AI is being used in various ways to improve diagnosis, treatment, and overall patient outcomes. For instance, AI-powered algorithms can analyze medical images like X-rays and MRIs to help doctors detect diseases like cancer more accurately and at an earlier stage. This not only saves lives but also reduces the burden on healthcare systems by preventing unnecessary treatments and interventions.\\n\\nAnother area where AI is making a significant difference is in personalized medicine. By analyzing vast amounts of patient data, AI can help tailor treatment plans to individual needs, taking into account factors like genetic profiles, medical histories, and lifestyle habits. This approach has shown promising results in managing chronic conditions like diabetes and heart disease, where patients require ongoing monitoring and support.\\n\\nNow, let's shift our focus to hospital administration. AI is streamlining many administrative tasks, freeing up staff to focus on more critical aspects of patient care. For example, AI-powered chatbots are being used to handle patient inquiries, schedule appointments, and even provide basic medical advice. This not only improves the patient experience but also reduces wait times and minimizes the risk of human error.\\n\\nIn addition, AI is helping hospitals optimize resource allocation, predict patient demand, and identify areas of inefficiency. By analyzing data on patient flow, bed occupancy, and staffing levels, AI can provide valuable insights that inform strategic decision-making and drive cost savings.\\n\\nAs we look to the future, it's clear that AI will continue to play an increasingly important role in shaping the healthcare landscape. One exciting trend is the development of AI-powered robots that can assist with surgeries, rehabilitation, and even patient companionship. These robots have the potential to revolutionize the way we deliver care, particularly in areas where there are shortages of skilled healthcare professionals.\\n\\nAnother area of research is the use of AI in mental health. AI-powered tools are being developed to detect early warning signs of mental illness, provide personalized therapy, and even offer social support to patients who are isolated or struggling to cope. This is a critical area of need, given the growing burden of mental health issues worldwide.\\n\\nIn conclusion, the impact of AI on modern healthcare is undeniable. From improving patient care and streamlining hospital administration to driving future trends and innovations, AI is transforming the way we deliver healthcare. As we continue to explore the possibilities of AI, it's essential to prioritize responsible development, ensure equity and access, and address the ethical implications of this technology.\\n\\nThanks for joining me on this journey into the world of AI in healthcare. If you have any thoughts or questions, please don't hesitate to reach out. Until next time, stay curious and keep exploring.\\n\", 'tags': ['AI', 'healthcare', 'technology', 'patient care', 'hospital administration', 'future trends', 'personalized medicine', 'mental health']}\n"
     ]
    }
   ],
   "source": [
    "from langchain_core.output_parsers import JsonOutputParser\n",
    "json_parser = JsonOutputParser();\n",
    "json_res = json_parser.parse(res.content);\n",
    "print(json_res);"
   ]
  }
 ],
 "metadata": {
  "kernelspec": {
   "display_name": "hacksync_venv",
   "language": "python",
   "name": "python3"
  },
  "language_info": {
   "codemirror_mode": {
    "name": "ipython",
    "version": 3
   },
   "file_extension": ".py",
   "mimetype": "text/x-python",
   "name": "python",
   "nbconvert_exporter": "python",
   "pygments_lexer": "ipython3",
   "version": "3.12.0"
  }
 },
 "nbformat": 4,
 "nbformat_minor": 2
}
