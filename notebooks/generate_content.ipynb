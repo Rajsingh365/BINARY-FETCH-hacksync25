{
 "cells": [
  {
   "cell_type": "code",
   "execution_count": 4,
   "metadata": {},
   "outputs": [
    {
     "name": "stdout",
     "output_type": "stream",
     "text": [
      "Unfortunately, it's difficult to pinpoint the exact person who was the first to eat chocolate cake, as the history of chocolate and cake dates back thousands of years.\n",
      "\n",
      "However, I can give you some insight into the origins of chocolate cake. The ancient Mesoamericans, specifically the Olmec and Aztec civilizations, are known to have consumed a bitter drink made from cacao beans, which is the main ingredient in chocolate, around 2500 BCE.\n",
      "\n",
      "As for cake, the ancient Egyptians are credited with creating sweet baked goods around 2500 BCE, using ingredients like honey, nuts, and fruit. The ancient Greeks and Romans also enjoyed sweet cakes made with honey and other ingredients.\n",
      "\n",
      "The modern version of chocolate cake, as we know it today, is believed to have originated in Europe in the 17th or 18th century, when cacao beans were introduced from the New World. The first recorded recipe for a chocolate cake was found in a 1764 book called \"The Art of Cookery\" by Hannah Glasse, an English cookbook author.\n",
      "\n",
      "So, while we can't identify a single person who was the first to eat chocolate cake, it's likely that ancient Mesoamericans, Egyptians, Greeks, and Romans all enjoyed some form of sweet, chocolatey treats. And who knows, maybe a clever chef or baker in 17th-century Europe was the first to combine chocolate and cake in a way that resembles the delicious treats we enjoy today!\n"
     ]
    }
   ],
   "source": [
    "from langchain_groq import ChatGroq\n",
    "from dotenv import load_dotenv\n",
    "import os\n",
    "load_dotenv()\n",
    "\n",
    "llm = ChatGroq(\n",
    "    model=\"llama-3.3-70b-versatile\",\n",
    "    temperature=0,\n",
    "    groq_api_key=os.getenv(\"GROQ_API_KEY\")\n",
    ");\n",
    "\n",
    "response = llm.invoke(\"who was The first person to eat chocolate cake ?\");\n",
    "print(response.content);"
   ]
  },
  {
   "cell_type": "code",
   "execution_count": 5,
   "metadata": {},
   "outputs": [
    {
     "name": "stdout",
     "output_type": "stream",
     "text": [
      "{\n",
      "    \"content\": \"\n",
      "Welcome to today's episode, where we're going to explore the fascinating world of artificial intelligence in modern healthcare. As we continue to push the boundaries of what's possible with technology, it's exciting to see the impact AI is having on patient care, hospital administration, and what the future holds for this rapidly evolving field.\n",
      "\n",
      "First, let's talk about patient care. AI is being used in various ways to improve diagnosis, treatment, and overall patient outcomes. For instance, AI-powered algorithms can analyze medical images like X-rays and MRIs to help doctors detect diseases like cancer more accurately and at an earlier stage. This not only saves lives but also reduces the burden on healthcare systems by preventing unnecessary treatments and procedures.\n",
      "\n",
      "Another area where AI is making a significant difference is in personalized medicine. By analyzing vast amounts of patient data, AI can help tailor treatment plans to individual needs, taking into account factors like genetic profiles, medical histories, and lifestyle habits. This approach has shown promising results in managing chronic conditions like diabetes and heart disease, where patients require ongoing monitoring and support.\n",
      "\n",
      "Now, let's shift our focus to hospital administration. AI is streamlining many backend processes, from patient registration and billing to supply chain management and staff scheduling. For example, chatbots and virtual assistants are being used to handle routine inquiries and tasks, freeing up human staff to focus on more complex and high-value tasks. This not only improves efficiency but also enhances the overall patient experience by reducing wait times and minimizing administrative errors.\n",
      "\n",
      "As we look to the future, it's clear that AI will continue to play an increasingly important role in shaping the healthcare landscape. One trend that's gaining traction is the use of AI-powered robots and drones to deliver medical supplies, transport patients, and even perform surgeries. While this may seem like science fiction, it's already becoming a reality in some parts of the world, particularly in areas where access to healthcare is limited or non-existent.\n",
      "\n",
      "Another exciting development is the integration of AI with the Internet of Medical Things (IoMT). This refers to the network of connected medical devices, sensors, and wearables that can collect and transmit vast amounts of health data in real-time. By analyzing this data, AI can identify patterns and anomalies that may indicate potential health risks, allowing for early interventions and preventative measures.\n",
      "\n",
      "As we wrap up this episode, it's essential to acknowledge the challenges and concerns surrounding AI in healthcare. While AI has the potential to revolutionize patient care and hospital administration, it also raises important questions about data privacy, security, and bias. As we move forward, it's crucial that we address these concerns through rigorous testing, validation, and regulation to ensure that AI is developed and deployed in a responsible and transparent manner.\n",
      "\n",
      "Thanks for joining me on this journey into the world of AI in modern healthcare. I hope you found this episode informative, insightful, and thought-provoking. If you have any questions or topics you'd like to discuss, please don't hesitate to reach out. Until next time, stay curious and keep exploring!\",\n",
      "    \"tags\": [\"AI\", \"healthcare\", \"technology\", \"patient care\", \"hospital administration\", \"future trends\", \"personalized medicine\", \"IoMT\"]\n",
      "} <class 'str'>\n"
     ]
    }
   ],
   "source": [
    "\n",
    "from langchain_core.prompts import PromptTemplate\n",
    "\n",
    "# Define the PromptTemplate with placeholders for user input\n",
    "prompt_script = PromptTemplate.from_template(\n",
    "  \"\"\"\n",
    "  ### SOLO PODCAST SCRIPT CREATION\n",
    "  {script_content}\n",
    "  ### INSTRUCTIONS\n",
    "  You are tasked with creating a solo podcast script based on the following instructions. \n",
    "  Use the provided summary to craft a script that can be read aloud for a podcast episode. \n",
    "  Make sure to create a compelling narrative with engaging storytelling and clear transitions.\n",
    "  Keep the tone conversational and approachable. \n",
    "  Ensure the script includes real-world examples or scenarios to make it relatable and insightful.\n",
    "  Format the script in a way that would be easy for a speaker to follow during the podcast.\n",
    "\n",
    "  ### OUTPUT FORMAT (PODCAST SCRIPT):\n",
    "  The output should be valid json having two fields : content - that will have the solo script to be fed \n",
    "  to a text to speech model and tags - an array of tags that will be used later for the recommendation \n",
    "  algorithm internally.\n",
    "\n",
    "  ### FINAL OUTPUT (VALID JSON FORMATTED PLAIN TEXT AND NOT JSON):\n",
    "  {{\n",
    "    \"content\": \"{script_content}\",\n",
    "    \"tags\": {tags}\n",
    "  }}\n",
    "\"\"\"\n",
    ")\n",
    "\n",
    "# Assuming `llm` is a pre-configured LLM chain, you can now call the chain like this:\n",
    "chain_script = prompt_script | llm;\n",
    "\n",
    "# Example input data for generating the podcast script\n",
    "input_data = {\n",
    "    'script_content': \"Discuss the impact of AI on modern healthcare, including patient care, hospital administration, and future trends.\",\n",
    "    'tags': '[\"AI\", \"healthcare\", \"technology\"]',  # Tags for context\n",
    "    'summary': \"This podcast will explore how artificial intelligence is revolutionizing healthcare.\",\n",
    "    'special_instructions': \"Ensure the tone is engaging and simple to understand, with a bit of humor where appropriate.\"\n",
    "}\n",
    "\n",
    "# Render the prompt with the actual input values\n",
    "res = chain_script.invoke(input=input_data)\n",
    "\n",
    "# Print the generated output in JSON format (plain text)\n",
    "print(res.content, type(res.content))\n"
   ]
  },
  {
   "cell_type": "code",
   "execution_count": 6,
   "metadata": {},
   "outputs": [
    {
     "name": "stdout",
     "output_type": "stream",
     "text": [
      "{'content': \"\\nWelcome to today's episode, where we're going to explore the fascinating world of artificial intelligence in modern healthcare. As we continue to push the boundaries of what's possible with technology, it's exciting to see the impact AI is having on patient care, hospital administration, and what the future holds for this rapidly evolving field.\\n\\nFirst, let's talk about patient care. AI is being used in various ways to improve diagnosis, treatment, and overall patient outcomes. For instance, AI-powered algorithms can analyze medical images like X-rays and MRIs to help doctors detect diseases like cancer more accurately and at an earlier stage. This not only saves lives but also reduces the burden on healthcare systems by preventing unnecessary treatments and procedures.\\n\\nAnother area where AI is making a significant difference is in personalized medicine. By analyzing vast amounts of patient data, AI can help tailor treatment plans to individual needs, taking into account factors like genetic profiles, medical histories, and lifestyle habits. This approach has shown promising results in managing chronic conditions like diabetes and heart disease, where patients require ongoing monitoring and support.\\n\\nNow, let's shift our focus to hospital administration. AI is streamlining many backend processes, from patient registration and billing to supply chain management and staff scheduling. For example, chatbots and virtual assistants are being used to handle routine inquiries and tasks, freeing up human staff to focus on more complex and high-value tasks. This not only improves efficiency but also enhances the overall patient experience by reducing wait times and minimizing administrative errors.\\n\\nAs we look to the future, it's clear that AI will continue to play an increasingly important role in shaping the healthcare landscape. One trend that's gaining traction is the use of AI-powered robots and drones to deliver medical supplies, transport patients, and even perform surgeries. While this may seem like science fiction, it's already becoming a reality in some parts of the world, particularly in areas where access to healthcare is limited or non-existent.\\n\\nAnother exciting development is the integration of AI with the Internet of Medical Things (IoMT). This refers to the network of connected medical devices, sensors, and wearables that can collect and transmit vast amounts of health data in real-time. By analyzing this data, AI can identify patterns and anomalies that may indicate potential health risks, allowing for early interventions and preventative measures.\\n\\nAs we wrap up this episode, it's essential to acknowledge the challenges and concerns surrounding AI in healthcare. While AI has the potential to revolutionize patient care and hospital administration, it also raises important questions about data privacy, security, and bias. As we move forward, it's crucial that we address these concerns through rigorous testing, validation, and regulation to ensure that AI is developed and deployed in a responsible and transparent manner.\\n\\nThanks for joining me on this journey into the world of AI in modern healthcare. I hope you found this episode informative, insightful, and thought-provoking. If you have any questions or topics you'd like to discuss, please don't hesitate to reach out. Until next time, stay curious and keep exploring!\", 'tags': ['AI', 'healthcare', 'technology', 'patient care', 'hospital administration', 'future trends', 'personalized medicine', 'IoMT']}\n"
     ]
    }
   ],
   "source": [
    "\n",
    "from langchain_core.output_parsers import JsonOutputParser\n",
    "json_parser = JsonOutputParser();\n",
    "json_res = json_parser.parse(res.content);\n",
    "print(json_res);"
   ]
  }
 ],
 "metadata": {
  "kernelspec": {
   "display_name": "Python 3",
   "language": "python",
   "name": "python3"
  },
  "language_info": {
   "codemirror_mode": {
    "name": "ipython",
    "version": 3
   },
   "file_extension": ".py",
   "mimetype": "text/x-python",
   "name": "python",
   "nbconvert_exporter": "python",
   "pygments_lexer": "ipython3",
   "version": "3.12.0"
  }
 },
 "nbformat": 4,
 "nbformat_minor": 2
}
