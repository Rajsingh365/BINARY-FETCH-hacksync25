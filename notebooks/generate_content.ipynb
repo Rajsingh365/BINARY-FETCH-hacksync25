{
 "cells": [
  {
   "cell_type": "code",
   "execution_count": 8,
   "metadata": {},
   "outputs": [
    {
     "name": "stdout",
     "output_type": "stream",
     "text": [
      "La pregunta del origen del pastel de chocolate es un tema interesante. Aunque no se conoce con certeza quién fue la primera persona en comer pastel de chocolate, se cree que el chocolate se consumió por primera vez en Mesoamérica, específicamente en la civilización maya y azteca, alrededor del año 2500 a.C.\n",
      "\n",
      "En cuanto a la creación del pastel de chocolate tal como lo conocemos hoy en día, se atribuye a los europeos, específicamente a los españoles y franceses, que trajeron el cacao de América y lo mezclaron con azúcar y otros ingredientes para crear un postre rico y delicioso.\n",
      "\n",
      "Una de las primeras recetas de pastel de chocolate registradas se encuentra en un libro de cocina francés llamado \"Le Cuisinier Royale et Bourgeois\" de François Massialot, publicado en 1691. Sin embargo, no se menciona el nombre de una persona específica que haya sido la primera en comer pastel de chocolate.\n",
      "\n",
      "En resumen, aunque no se conoce con certeza quién fue la primera persona en comer pastel de chocolate, se cree que el chocolate se consumió por primera vez en Mesoamérica y que los europeos, específicamente los españoles y franceses, crearon el pastel de chocolate tal como lo conocemos hoy en día.\n",
      "\n",
      "**La respuesta en español sería:**\n",
      "La primera persona en comer pastel de chocolate es desconocida, pero se cree que el chocolate se consumió por primera vez en Mesoamérica y que los europeos crearon el pastel de chocolate tal como lo conocemos hoy en día.\n"
     ]
    }
   ],
   "source": [
    "from langchain_groq import ChatGroq\n",
    "from dotenv import load_dotenv\n",
    "import os\n",
    "load_dotenv()\n",
    "\n",
    "llm = ChatGroq(\n",
    "    model=\"llama-3.3-70b-versatile\",\n",
    "    temperature=0,\n",
    "    groq_api_key=os.getenv(\"GROQ_API_KEY\")\n",
    ");\n",
    "\n",
    "response = llm.invoke(\"who was The first person to eat chocolate cake ? in spanish\");\n",
    "print(response.content);"
   ]
  },
  {
   "cell_type": "code",
   "execution_count": 6,
   "metadata": {},
   "outputs": [
    {
     "name": "stdout",
     "output_type": "stream",
     "text": [
      "{\n",
      "  \"content\": [\n",
      "    { \n",
      "      \"speaker\": \"speaker1\", \n",
      "      \"text\": \"Welcome to today's episode of our podcast, where we explore the wonders of the natural world. I'm your host, and I'm excited to share with you why I believe nature is the best artist. From the intricate patterns on a butterfly's wings to the majestic landscapes of our national parks, nature has a way of inspiring us with its beauty and complexity.\" \n",
      "    },\n",
      "    { \n",
      "      \"speaker\": \"speaker2\", \n",
      "      \"text\": \"That's so true. I mean, think about it. Nature has been creating art for millions of years, long before humans even existed. The way a river carves its path through the landscape, the way a tree grows its branches, it's all so intentional and yet, so effortless.\" \n",
      "    },\n",
      "    { \n",
      "      \"speaker\": \"speaker1\", \n",
      "      \"text\": \"Exactly. And one of the things that I find most fascinating about nature's art is its ability to evoke emotions. A beautiful sunset can make us feel peaceful and calm, while a dramatic storm can make us feel energized and alive. Nature has a way of tapping into our emotions in a way that human art often can't.\" \n",
      "    },\n",
      "    { \n",
      "      \"speaker\": \"speaker2\", \n",
      "      \"text\": \"I completely agree. And I think that's because nature's art is often imperfect, you know? It's not always symmetrical or predictable. There's a randomness to it that makes it feel more real, more authentic. Like, have you ever seen a perfectly formed snowflake? It's like a tiny work of art, unique and fleeting.\" \n",
      "    },\n",
      "    { \n",
      "      \"speaker\": \"speaker1\", \n",
      "      \"text\": \"That's a great example. And it's not just the big, dramatic landscapes that are impressive. Even the smallest details in nature can be works of art. Like the patterns on a leaf, or the colors of a rock. It's amazing how much beauty can be found in even the most mundane things.\" \n",
      "    },\n",
      "    { \n",
      "      \"speaker\": \"speaker2\", \n",
      "      \"text\": \"Absolutely. And I think that's one of the things that I love most about nature's art. It's accessible to everyone. You don't need to go to a museum or a gallery to experience it. You can just step outside and look around. Nature is always creating, always evolving, and it's always available to us.\" \n",
      "    },\n",
      "    { \n",
      "      \"speaker\": \"speaker1\", \n",
      "      \"text\": \"Well, as we continue to explore the idea that nature is the best artist, let's take a listen to a clip from a nature soundscape. This is a recording of a forest at dawn, and I think it's a great example of how nature can create a sense of atmosphere and mood.\" \n",
      "    },\n",
      "    { \n",
      "      \"speaker\": \"speaker2\", \n",
      "      \"text\": \"That's beautiful. The sounds of the birds, the rustling of the leaves, it's like a symphony. And it's not just the sounds, the smells, the feeling of the air on your skin, it's all part of the experience.\" \n",
      "    },\n",
      "    { \n",
      "      \"speaker\": \"speaker1\", \n",
      "      \"text\": \"Exactly. And I think that's what makes nature's art so powerful. It's not just something we look at, it's something we experience with all of our senses. It's immersive, it's engaging, and it's always changing.\" \n",
      "    },\n",
      "    { \n",
      "      \"speaker\": \"speaker2\", \n",
      "      \"text\": \"Well, as we come to the end of today's episode, I want to leave our listeners with a challenge. Take some time to get outside, to experience nature's art for yourself. Take a walk in the woods, sit by a river, or simply sit in your backyard and observe the world around you. I promise you, it will be worth it.\" \n",
      "    },\n",
      "    { \n",
      "      \"speaker\": \"speaker1\", \n",
      "      \"text\": \"Thanks for joining us on this episode of our podcast. We hope you've enjoyed our conversation about why nature is the best artist. Join us next time as we explore more wonders of the natural world.\" \n",
      "    }\n",
      "  ],\n",
      "  \"tags\": \"nature, art, beauty, inspiration, emotions, imperfection, accessibility, experience, senses, immersion\"\n",
      "} <class 'str'>\n"
     ]
    }
   ],
   "source": [
    "\n",
    "from langchain_core.prompts import PromptTemplate\n",
    "\n",
    "# Define the PromptTemplate with placeholders for user input\n",
    "prompt_script = PromptTemplate.from_template(\n",
    "  \"\"\"\n",
    "  ### PODCAST SCRIPT CREATION\n",
    "  Title of the episode : {title}\n",
    "  ### BRIEF\n",
    "  The podcast must revolve around : {summary}\n",
    "  ### INSTRUCTIONS\n",
    "  Instructions you must follow : {special_instructions}\n",
    "  ### IMPORTANT GUIDELINES\n",
    "  You are tasked with creating a podcast script based on the following instructions. \n",
    "  Use the provided summary to craft a script that can be read aloud for a podcast episode. \n",
    "  Make sure to create a compelling narrative with engaging storytelling and clear transitions.\n",
    "  Keep the tone conversational and approachable. \n",
    "  Ensure the script includes real-world examples or scenarios to make it relatable and insightful.\n",
    "  Format the script in a way that would be easy for a speaker to follow during the podcast.\n",
    "  Make a proper long form podcast with multiple different sub conversations.\n",
    "\n",
    "  ### OUTPUT FORMAT (PODCAST SCRIPT):\n",
    "  The output should be valid json having two fields : content - an array that will contain objects that\n",
    "  will have 2 fields, the speaker and the content they say, and tags - an array of tags that will be used later \n",
    "  for the recommendation algorithm internally.\n",
    "\n",
    "  ### FINAL OUTPUT (VALID JSON FORMATTED PLAIN TEXT AND NOT JSON):\n",
    "  {{\n",
    "    \"content\": [\n",
    "      {{ speaker : speaker1(this exact name), text : dialogue by speaker 1 }},\n",
    "      {{ speaker : speaker2(this exact name), text : dialogue by speaker 2 }},\n",
    "      and so on...\n",
    "    ],\n",
    "    \"tags\": \"appropriate tags\"\n",
    "  }} \n",
    "\"\"\"\n",
    ")\n",
    "\n",
    "# Assuming `llm` is a pre-configured LLM chain, you can now call the chain like this:\n",
    "chain_script = prompt_script | llm;\n",
    "\n",
    "# Example input data for generating the podcast script\n",
    "input_data = {\n",
    "    'title': \"Why nature is the best artist\",\n",
    "    'summary': \"a calming discussion about how nature has the best designs\",\n",
    "    'special_instructions': \"make it a calming and soothing listening experience\"\n",
    "}\n",
    "\n",
    "# Render the prompt with the actual input values\n",
    "res = chain_script.invoke(input=input_data)\n",
    "\n",
    "# Print the generated output in JSON format (plain text)\n",
    "print(res.content, type(res.content))\n"
   ]
  },
  {
   "cell_type": "code",
   "execution_count": 4,
   "metadata": {},
   "outputs": [
    {
     "name": "stdout",
     "output_type": "stream",
     "text": [
      "{'content': [{'speaker': 'speaker1', 'text': \"Welcome to today's episode of 'Tech Talk', where we dive into the world of programming and explore the good, the bad, and the ugly. I'm your host, and today we're going to talk about a topic that's been on my mind for a while now: how Python has ruined the developer experience and stifled mind exercise by spoonfeeding.\"}, {'speaker': 'speaker2', 'text': \"I couldn't agree more. As someone who's been in the industry for over a decade, I've seen the rise of Python and its impact on the way we code. It's like the language has become a crutch for many developers, making them lazy and reliant on its simplicity.\"}, {'speaker': 'speaker1', 'text': \"Exactly! Python's syntax is so forgiving, it's like it's holding our hands through the entire development process. Don't get me wrong, I'm not saying it's a bad language, but it's definitely made us complacent. We're no longer forced to think critically about our code, to optimize it, to make it efficient.\"}, {'speaker': 'speaker2', 'text': \"And that's where the problem lies. When we're not challenged to think critically, we're not exercising our minds. We're not learning, we're not growing. We're just regurgitating the same old code, the same old patterns, without ever stopping to think about whether it's the best solution.\"}, {'speaker': 'speaker1', 'text': 'I remember when I first started coding, I was using C++ and it was a struggle. But it was a good struggle. It forced me to understand the underlying mechanics of the language, to optimize my code, to make it efficient. And when I finally switched to Python, it was like a breath of fresh air. But also, it was like I was losing a part of myself, a part of my coding identity.'}, {'speaker': 'speaker2', 'text': \"That's so true. And it's not just about the language itself, it's about the community. The Python community is so focused on ease of use, on making things simple, that it's created a culture of laziness. We're no longer encouraged to experiment, to try new things, to push the boundaries of what's possible.\"}, {'speaker': 'speaker1', 'text': \"And what's the result of all this? We have a generation of developers who are proficient in Python, but lack the fundamental skills to tackle complex problems. They're like one-trick ponies, able to solve simple tasks, but completely lost when faced with something challenging.\"}, {'speaker': 'speaker2', 'text': \"It's like we're creating a generation of developers who are only capable of working on trivial projects. They're not equipped to handle the complexities of real-world problems, to think critically, to innovate. And that's a scary thought, because it means we're not pushing the boundaries of what's possible, we're not advancing the field.\"}, {'speaker': 'speaker1', 'text': \"So, what's the solution? How do we break free from the shackles of Python's simplicity and start challenging ourselves again? How do we start exercising our minds, learning, growing?\"}, {'speaker': 'speaker2', 'text': \"I think it starts with education. We need to teach developers the fundamentals of programming, the underlying mechanics of the language. We need to encourage them to experiment, to try new things, to push the boundaries of what's possible. And we need to create a culture that values complexity, that values challenge, that values innovation.\"}, {'speaker': 'speaker1', 'text': \"Well, that's all the time we have for today. Thanks for tuning in to this episode of 'Tech Talk'. Join us next time when we'll be discussing another topic that's been on our minds. And to all our listeners out there, don't be afraid to challenge yourselves, to try new things, to push the boundaries of what's possible. Because in the end, that's what it means to be a developer.\"}], 'tags': 'python, programming, developer experience, mind exercise, spoonfeeding, critical thinking, innovation, education, complexity'}\n"
     ]
    }
   ],
   "source": [
    "\n",
    "from langchain_core.output_parsers import JsonOutputParser\n",
    "json_parser = JsonOutputParser();\n",
    "json_res = json_parser.parse(res.content);\n",
    "print(json_res);"
   ]
  }
 ],
 "metadata": {
  "kernelspec": {
   "display_name": "hacksync_venv",
   "language": "python",
   "name": "python3"
  },
  "language_info": {
   "codemirror_mode": {
    "name": "ipython",
    "version": 3
   },
   "file_extension": ".py",
   "mimetype": "text/x-python",
   "name": "python",
   "nbconvert_exporter": "python",
   "pygments_lexer": "ipython3",
   "version": "3.12.0"
  }
 },
 "nbformat": 4,
 "nbformat_minor": 2
}
