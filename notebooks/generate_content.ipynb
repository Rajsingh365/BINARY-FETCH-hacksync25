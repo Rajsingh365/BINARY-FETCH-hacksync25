{
 "cells": [
  {
   "cell_type": "code",
   "execution_count": 1,
   "metadata": {},
   "outputs": [
    {
     "name": "stdout",
     "output_type": "stream",
     "text": [
      "Unfortunately, it's difficult to pinpoint the exact person who was the first to eat chocolate cake, as the history of chocolate and cake dates back thousands of years.\n",
      "\n",
      "However, I can give you some interesting historical tidbits:\n",
      "\n",
      "* The ancient Mesoamericans, specifically the Olmec and Aztec civilizations, are known to have consumed a bitter drink made from cacao beans (the main ingredient in chocolate) as early as 1500 BCE.\n",
      "* The first recorded evidence of cake-like treats made with cacao beans comes from the Spanish conquistador Hernán Cortés, who arrived in Mexico in 1519. He described a sweet, frothy drink made with cacao beans, which was often served with a type of flatbread or cake.\n",
      "* The modern concept of chocolate cake, as we know it today, is believed to have originated in Europe in the 17th century. The first chocolate cakes were likely made with ground almonds, sugar, and cacao beans, and were considered a luxury item due to the high cost of cacao.\n",
      "* One of the earliest known recipes for a chocolate cake-like dessert is found in a 1764 cookbook called \"The Art of Cookery\" by Hannah Glasse. The recipe, called \"Chocolate Pudding,\" consists of ground almonds, sugar, cacao beans, and eggs, mixed with cream and baked in a pie crust.\n",
      "\n",
      "As for the first person to eat chocolate cake, it's likely that it was a member of the aristocracy or a wealthy merchant who had access to the expensive and exotic ingredients required to make it. Some possible candidates could include:\n",
      "\n",
      "* Marie Antoinette, the Queen of France, who was known for her love of sweets and luxury desserts.\n",
      "* King Louis XIV of France, who was said to have a weakness for chocolate and had a special chocolate maker at his court.\n",
      "* The wealthy merchant class in Europe, who had the means to afford the expensive ingredients and the leisure time to enjoy such indulgences.\n",
      "\n",
      "Of course, these are just speculative suggestions, and the true identity of the first person to eat chocolate cake remains a mystery lost to history.\n"
     ]
    }
   ],
   "source": [
    "from langchain_groq import ChatGroq\n",
    "from dotenv import load_dotenv\n",
    "import os\n",
    "load_dotenv()\n",
    "\n",
    "llm = ChatGroq(\n",
    "    model=\"llama-3.3-70b-versatile\",\n",
    "    temperature=0,\n",
    "    groq_api_key=os.getenv(\"GROQ_API_KEY\")\n",
    ");\n",
    "\n",
    "response = llm.invoke(\"who was The first person to eat chocolate cake ?\");\n",
    "print(response.content);"
   ]
  },
  {
   "cell_type": "code",
   "execution_count": 3,
   "metadata": {},
   "outputs": [
    {
     "name": "stdout",
     "output_type": "stream",
     "text": [
      "{\n",
      "  \"content\": [\n",
      "    { \"speaker\" : \"speaker1\", \"text\" : \"Welcome to today's episode of 'Tech Talk', where we dive into the world of programming and explore the good, the bad, and the ugly. I'm your host, and today we're going to talk about a topic that's been on my mind for a while now: how Python has ruined the developer experience and stifled mind exercise by spoonfeeding.\" },\n",
      "    { \"speaker\" : \"speaker2\", \"text\" : \"I couldn't agree more. As someone who's been in the industry for over a decade, I've seen the rise of Python and its impact on the way we code. It's like the language has become a crutch for many developers, making them lazy and reliant on its simplicity.\" },\n",
      "    { \"speaker\" : \"speaker1\", \"text\" : \"Exactly! Python's syntax is so forgiving, it's like it's holding our hands through the entire development process. Don't get me wrong, I'm not saying it's a bad language, but it's definitely made us complacent. We're no longer forced to think critically about our code, to optimize it, to make it efficient.\" },\n",
      "    { \"speaker\" : \"speaker2\", \"text\" : \"And that's where the problem lies. When we're not challenged to think critically, we're not exercising our minds. We're not learning, we're not growing. We're just regurgitating the same old code, the same old solutions, without ever stopping to think about whether there's a better way.\" },\n",
      "    { \"speaker\" : \"speaker1\", \"text\" : \"I remember when I first started coding, I was using C++ and it was a struggle. But it was a good struggle, because it forced me to learn, to understand the underlying mechanics of the language. With Python, it's like we're skipping that step altogether. We're going straight to the 'easy' solution, without ever stopping to think about the consequences.\" },\n",
      "    { \"speaker\" : \"speaker2\", \"text\" : \"And the consequences are real. I've seen projects that are built on Python, and they're just a mess. They're slow, they're inefficient, they're hard to maintain. And it's all because the developers didn't take the time to think about the code, to optimize it, to make it better.\" },\n",
      "    { \"speaker\" : \"speaker1\", \"text\" : \"So, what's the solution? Do we just abandon Python altogether? I don't think so. But I do think we need to be more mindful of how we're using it. We need to take a step back and think about the code we're writing, to make sure it's the best it can be.\" },\n",
      "    { \"speaker\" : \"speaker2\", \"text\" : \"Absolutely. And I think that's where other languages come in. Languages like Rust, or Haskell, or even C++. These languages are challenging, they're not easy to learn, but they force you to think critically about your code. They force you to be a better developer.\" },\n",
      "    { \"speaker\" : \"speaker1\", \"text\" : \"So, to all the Python developers out there, I urge you: don't be afraid to step out of your comfort zone. Try a new language, try a new approach. You might be surprised at how much you learn, how much you grow as a developer.\" },\n",
      "    { \"speaker\" : \"speaker2\", \"text\" : \"And to the Python community, I say: let's take a hard look at ourselves. Let's think about the kind of developers we're producing, the kind of code we're writing. Are we really doing the best we can, or are we just taking the easy way out?\" },\n",
      "    { \"speaker\" : \"speaker1\", \"text\" : \"Well, that's all for today's episode. Thanks for tuning in, and we'll catch you on the next one.\" }\n",
      "  ],\n",
      "  \"tags\": \"python, programming, developer experience, mind exercise, spoonfeeding, critical thinking, code optimization, efficiency, rust, haskell, c++, comfort zone, growth, self-improvement\"\n",
      "} <class 'str'>\n"
     ]
    }
   ],
   "source": [
    "\n",
    "from langchain_core.prompts import PromptTemplate\n",
    "\n",
    "# Define the PromptTemplate with placeholders for user input\n",
    "prompt_script = PromptTemplate.from_template(\n",
    "  \"\"\"\n",
    "  ### PODCAST SCRIPT CREATION\n",
    "  Title of the episode : {title}\n",
    "  ### BRIEF\n",
    "  The podcast must revolve around : {summary}\n",
    "  ### INSTRUCTIONS\n",
    "  Instructions you must follow : {special_instructions}\n",
    "  ### IMPORTANT GUIDELINES\n",
    "  You are tasked with creating a podcast script based on the following instructions. \n",
    "  Use the provided summary to craft a script that can be read aloud for a podcast episode. \n",
    "  Make sure to create a compelling narrative with engaging storytelling and clear transitions.\n",
    "  Keep the tone conversational and approachable. \n",
    "  Ensure the script includes real-world examples or scenarios to make it relatable and insightful.\n",
    "  Format the script in a way that would be easy for a speaker to follow during the podcast.\n",
    "  Make a proper long form podcast with multiple different sub conversations.\n",
    "\n",
    "  ### OUTPUT FORMAT (PODCAST SCRIPT):\n",
    "  The output should be valid json having two fields : content - an array that will contain objects that\n",
    "  will have 2 fields, the speaker and the content they say, and tags - an array of tags that will be used later \n",
    "  for the recommendation algorithm internally.\n",
    "\n",
    "  ### FINAL OUTPUT (VALID JSON FORMATTED PLAIN TEXT AND NOT JSON):\n",
    "  {{\n",
    "    \"content\": [\n",
    "      {{ speaker : speaker1(this exact name), text : dialogue by speaker 1 }},\n",
    "      {{ speaker : speaker2(this exact name), text : dialogue by speaker 2 }},\n",
    "      and so on...\n",
    "    ],\n",
    "    \"tags\": \"appropriate tags\"\n",
    "  }} \n",
    "\"\"\"\n",
    ")\n",
    "\n",
    "# Assuming `llm` is a pre-configured LLM chain, you can now call the chain like this:\n",
    "chain_script = prompt_script | llm;\n",
    "\n",
    "# Example input data for generating the podcast script\n",
    "input_data = {\n",
    "    'title': \"How python is extremely unreliable and useless\",\n",
    "    'summary': \"Python has ruined dev experience and mind exercise by spoonfeeding\",\n",
    "    'special_instructions': \"No sugarcoating, express extreme hatred and frustration\"\n",
    "}\n",
    "\n",
    "# Render the prompt with the actual input values\n",
    "res = chain_script.invoke(input=input_data)\n",
    "\n",
    "# Print the generated output in JSON format (plain text)\n",
    "print(res.content, type(res.content))\n"
   ]
  },
  {
   "cell_type": "code",
   "execution_count": 16,
   "metadata": {},
   "outputs": [
    {
     "name": "stdout",
     "output_type": "stream",
     "text": [
      "{'content': [{'speaker': 'Host', 'text': \"Welcome to today's episode of 'Tech Talk', where we dive into the world of programming and explore the good, the bad, and the ugly. I'm your host, and today we're going to talk about a topic that's been on my mind for a while now: how Python has ruined the developer experience and stifled mind exercise by spoonfeeding. Joining me is my co-host, John, who's a seasoned developer with a love-hate relationship with Python. John, thanks for being on the show.\"}, {'speaker': 'John', 'text': \"Thanks for having me. I have to say, I'm excited to dive into this topic. As someone who's worked with Python for years, I've seen firsthand how it can make development easier, but also how it can hold us back.\"}, {'speaker': 'Host', 'text': \"So, let's start with the basics. What is it about Python that makes it so... appealing, yet so frustrating at the same time?\"}, {'speaker': 'John', 'text': \"Well, I think it's the fact that Python is so easy to learn and use. It's a great language for beginners, and it's perfect for quick prototyping and development. But, at the same time, it's almost too easy. It spoonfeeds you, and it doesn't force you to think critically about your code or your problem-solving approach.\"}, {'speaker': 'Host', 'text': \"That's a great point. I've noticed that a lot of Python developers tend to rely on libraries and frameworks to do the heavy lifting for them, rather than actually understanding the underlying concepts. It's like they're just gluing together pre-built blocks rather than building something from scratch.\"}, {'speaker': 'John', 'text': \"Exactly. And that's not just limited to Python, of course. But with Python, it's especially pronounced. I mean, have you seen the number of libraries and frameworks available for Python? It's staggering. And while it's great to have all those resources available, it also means that developers can get away with not really understanding the fundamentals.\"}, {'speaker': 'Host', 'text': \"Which brings us to the topic of mind exercise. How does Python's spoonfeeding approach affect the way developers think and problem-solve?\"}, {'speaker': 'John', 'text': \"Well, I think it's pretty clear that when you're not challenged to think critically, you don't develop those skills as much. And that's a problem, because programming is all about problem-solving. If you're just copying and pasting code from Stack Overflow, you're not really learning anything. You're not developing your own problem-solving skills, and you're not learning how to think critically.\"}, {'speaker': 'Host', 'text': \"That's a great point. And it's not just about the individual developer, either. When you have a whole community of developers who are used to being spoonfed, it can create a culture of dependency and lack of innovation. I mean, think about it: if everyone's just using the same libraries and frameworks, and not really pushing the boundaries of what's possible, then you're not going to see as much innovation and progress in the field.\"}, {'speaker': 'John', 'text': \"Absolutely. And it's not just about innovation, either. It's about resilience. When you're used to having all the answers handed to you, you're not prepared for when things go wrong. And in programming, things always go wrong at some point. So, if you're not used to thinking critically and solving problems on your own, you're going to struggle when you encounter an issue that you can't just Google the answer to.\"}, {'speaker': 'Host', 'text': \"Which brings us to the topic of real-world examples. Can you think of any specific instances where Python's spoonfeeding approach has led to problems or limitations?\"}, {'speaker': 'John', 'text': \"Oh, definitely. I've seen it happen in my own work, where I've been working on a project and I've realized that I've been relying too heavily on libraries and frameworks. And when something goes wrong, I'm not sure how to fix it because I don't really understand what's going on under the hood. It's like, I know how to use the library, but I don't know how it works. And that's a problem, because when you're working on a complex system, you need to understand how all the different components fit together.\"}, {'speaker': 'Host', 'text': \"That's a great example. And I think it highlights the importance of balancing ease of use with the need for critical thinking and problem-solving skills. We need to make sure that we're not sacrificing one for the other.\"}, {'speaker': 'John', 'text': \"Absolutely. And I think that's something that the Python community needs to be aware of. We need to make sure that we're not just teaching people how to use Python, but also how to think critically and solve problems. We need to encourage people to explore the underlying concepts, to experiment and try new things, and to learn from their mistakes.\"}, {'speaker': 'Host', 'text': \"Well, that's all the time we have for today. Thanks for joining me, John, and for sharing your insights on this topic.\"}, {'speaker': 'John', 'text': \"Thanks for having me. It's been a great conversation.\"}], 'tags': 'Python, programming, developer experience, mind exercise, critical thinking, problem-solving, innovation, resilience'}\n"
     ]
    }
   ],
   "source": [
    "\n",
    "from langchain_core.output_parsers import JsonOutputParser\n",
    "json_parser = JsonOutputParser();\n",
    "json_res = json_parser.parse(res.content);\n",
    "print(json_res);"
   ]
  }
 ],
 "metadata": {
  "kernelspec": {
   "display_name": "hacksync_venv",
   "language": "python",
   "name": "python3"
  },
  "language_info": {
   "codemirror_mode": {
    "name": "ipython",
    "version": 3
   },
   "file_extension": ".py",
   "mimetype": "text/x-python",
   "name": "python",
   "nbconvert_exporter": "python",
   "pygments_lexer": "ipython3",
   "version": "3.12.0"
  }
 },
 "nbformat": 4,
 "nbformat_minor": 2
}
